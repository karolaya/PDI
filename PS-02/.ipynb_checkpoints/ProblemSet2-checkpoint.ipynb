{
 "cells": [
  {
   "cell_type": "markdown",
   "metadata": {
    "deletable": true,
    "editable": true
   },
   "source": [
    "# <center>Digital Image Processing - Problem Set 2</center>"
   ]
  },
  {
   "cell_type": "markdown",
   "metadata": {
    "deletable": true,
    "editable": true
   },
   "source": [
    "### Student Names:\n",
    "* Karolay Ardila Salazar\n",
    "* Julián Elías Sibaja García\n",
    "* Andrés Simancas Mateus"
   ]
  },
  {
   "cell_type": "markdown",
   "metadata": {
    "deletable": true,
    "editable": true
   },
   "source": [
    "### Instructions"
   ]
  },
  {
   "cell_type": "markdown",
   "metadata": {
    "deletable": true,
    "editable": true
   },
   "source": [
    "This Problem Set covers the topics of Image enhancement in the spatial domain, power law transformations, histogram equalization, smoothing, median filters, image sharpening, Laplacian of an image, image gradients and Sobel operators. <br>\n",
    "\n",
    "Your solutions to the following problems should include commented source code and a short description of each function. You should test your functions with several input images, besides the ones provided here. Include the input and output images that you used for experimentation. Analyze your results. If you discover something interesting, let us know!"
   ]
  },
  {
   "cell_type": "markdown",
   "metadata": {
    "deletable": true,
    "editable": true
   },
   "source": [
    "### Definitions"
   ]
  },
  {
   "cell_type": "code",
   "execution_count": 10,
   "metadata": {
    "collapsed": false,
    "deletable": true,
    "editable": true
   },
   "outputs": [
    {
     "name": "stdout",
     "output_type": "stream",
     "text": [
      "['rose.bmp', 'cameraman_new.png', 'pollen.jpg', 'blurry_moon.png', 'lightPollen.jpg', 'test_pattern_blurring_orig.png', 'ckt_board_saltpep_prob_pt05.png', 'darkPollen.jpg', 'spine.jpg', 'moon.jpg', 'Woman.bmp', 'runway.jpg', 'new_cameraman.png', 'cameraman.png', 'face.png', 'skull.bmp', 'hut.jpg', 'lowContrastPollen.jpg', 'contact_lens_original.png']\n"
     ]
    }
   ],
   "source": [
    "'''This is a definition script, so we do not have to rewrite code'''\n",
    "\n",
    "import numpy as np\n",
    "import os\n",
    "import cv2\n",
    "import matplotlib.pyplot as mplt\n",
    "\n",
    "\n",
    "# set matplotlib to print inline (Jupyter)\n",
    "%matplotlib inline\n",
    "\n",
    "# path prefix\n",
    "pth = '../data/'\n",
    "\n",
    "# files to be used as samples\n",
    "# list *files* holds the names of the test images\n",
    "files = os.listdir(pth)\n",
    "print files\n",
    "\n",
    "# Usefull function\n",
    "def rg(img_path):\n",
    "    return cv2.imread(pth+img_path, cv2.IMREAD_GRAYSCALE)"
   ]
  },
  {
   "cell_type": "markdown",
   "metadata": {
    "deletable": true,
    "editable": true
   },
   "source": [
    "### Problem 1"
   ]
  },
  {
   "cell_type": "markdown",
   "metadata": {
    "deletable": true,
    "editable": true
   },
   "source": [
    "Implement the code for the function below, which runs histogram equalization on a grayscale image. Your code should compute the histogram of the image, and use the cdf as a transformation function. The function should return the equalized image as an array. Use the function to do histogram equalization on the images <tt>darkPollen.jpg</tt>, <tt>lightPollen.jpg</tt>, <tt>lowContrastPollen.jpg</tt>, <tt>pollen.jpg</tt>, <tt>spine.jpg</tt> and <tt>runway.jpg</tt>. Include in the report plots and comparisons between the histograms of the corrected images to those of the originals. Also include a plot of the transformation function that equalizes the input histograms. Please comment your results."
   ]
  },
  {
   "cell_type": "markdown",
   "metadata": {
    "deletable": true,
    "editable": true
   },
   "source": [
    "Please comment results here."
   ]
  },
  {
   "cell_type": "code",
   "execution_count": null,
   "metadata": {
    "collapsed": false,
    "deletable": true,
    "editable": true
   },
   "outputs": [],
   "source": [
    "def histo_eq(img,name):\n",
    "    hist,_ = np.histogram(img,256,[0,256])\n",
    "    histl = list(hist.flatten())\n",
    "    \n",
    "    cdf = np.cumsum(filter(lambda a: a != 0, list(histl)))\n",
    "    v = list(set(img.flatten()))\n",
    "    v = sorted(v)\n",
    "    cdf_v = {}\n",
    "    for i in range(0,len(v)):\n",
    "        cdf_v[v[i]] = cdf[i]\n",
    "    N = img.shape[0]\n",
    "    M = img.shape[1]\n",
    "    imgh = img.copy()\n",
    "    #for i in range(0,N):\n",
    "    #    for j in range(0,M):\n",
    "    #        imgh[i][j]= round(((cdf_v[img[i][j]]-min(cdf))*(255))/(M*N-1))\n",
    "    for row in imgh:\n",
    "        for i in row:\n",
    "            i = round(((cdf_v[i]-min(cdf))*(255))/(M*N-1))\n",
    "    cdf_normalized = cdf *hist.max()/ cdf.max()\n",
    "    print(str(N)+\"x\"+str(M))\n",
    "    #print len(cdf)\n",
    "    #print len(v)\n",
    "    return imgh,cdf_normalized\n",
    "            \n",
    "    \n",
    "#ftp = [2,4,7,8,11,17]\n",
    "for i in [2, 4, 7, 8, 11, 17]:\n",
    "    img = rg(files[i])\n",
    "    hist,_ = np.histogram(img.flatten(),256,[0,256])\n",
    "    cdf = hist.cumsum()\n",
    "    cdf_n = cdf*hist.max()/ cdf.max()\n",
    "    imgh,cdf_nh = histo_eq(rg(files[i]),files[i])\n",
    "\n",
    "    mplt.figure()\n",
    "    mplt.subplot(151)\n",
    "    mplt.imshow(rg(files[i]), cmap='gray')\n",
    "    mplt.title(files[i])\n",
    "    \n",
    "    mplt.subplot(152)      \n",
    "    mplt.hist(rg(files[i]),256,[0,256])\n",
    "    mplt.xlim([0,256])\n",
    "    mplt.show()    \n",
    "    \n",
    "    mplt.subplot(153)\n",
    "    mplt.imshow(imgh, cmap='gray')\n",
    "    mplt.title(\"histo_eq(\"+files[i]+\")\")\n",
    "    \n",
    "    mplt.subplot(152)      \n",
    "    mplt.hist(imgh,256,[0,256])\n",
    "    mplt.xlim([0,256])\n",
    "    mplt.show() \n",
    "    \n",
    "    mplt.subplot(155)\n",
    "    mplt.plot(cdf_n)\n",
    "    mplt.xlim([0,256])\n",
    "    mplt.show()"
   ]
  },
  {
   "cell_type": "markdown",
   "metadata": {
    "deletable": true,
    "editable": true
   },
   "source": [
    "#### Problem 2"
   ]
  },
  {
   "cell_type": "markdown",
   "metadata": {
    "deletable": true,
    "editable": true
   },
   "source": [
    "Implement the code for the function below which performs a power law transformation on an image. This function should take an image array and the gamma value to be used in the transformation as its only input parameters. The function should return a new image array which is the power transformation of the original image. Power law transformations are achieved using the following formula:\n",
    "$$ g(x,y) = T[f(x,y)] = c \\cdot f(x,y) ^ \\gamma $$\n",
    "\n",
    "where $g(x,y)$ is the output pixel value, $f(x,y)$ is the original pixel value, $\\gamma$ is the parameter controlling the power law transformation and $c$ is a constant usually set to 1. Note that you convert the image so that the intensity values are in the range 0.0 – 1.0, rather than in 0 – 255.\n",
    "\n",
    "Try this new function out on the images <tt>spine.jpg</tt> and <tt>runway.jpg</tt>, experimenting with different values for $\\gamma$. Please comment your results."
   ]
  },
  {
   "cell_type": "markdown",
   "metadata": {
    "deletable": true,
    "editable": true
   },
   "source": [
    "(Discuss your results after looking at the resulting images)"
   ]
  },
  {
   "cell_type": "markdown",
   "metadata": {
    "deletable": true,
    "editable": true
   },
   "source": [
    "### Problem 3"
   ]
  },
  {
   "cell_type": "markdown",
   "metadata": {
    "deletable": true,
    "editable": true
   },
   "source": [
    "Implement a function that performs smoothing on an input image with an averaging filter mask of size $n$. The function should take two inputs: an image matrix and the filter size $n$. Use the image <tt>test_pattern_blurring_orig.tif</tt> to test your algorithm. Use averaging filter masks of sizes $n = 3, 5, 9, 15, 35$. Analyze the results you obtained."
   ]
  },
  {
   "cell_type": "code",
   "execution_count": null,
   "metadata": {
    "collapsed": true,
    "deletable": true,
    "editable": true
   },
   "outputs": [],
   "source": [
    "n = [3, 5, 9, 15, 35]\n",
    "\n",
    "def smoo(mx, n):\n",
    "    \n"
   ]
  },
  {
   "cell_type": "markdown",
   "metadata": {
    "deletable": true,
    "editable": true
   },
   "source": [
    "### Problem 4"
   ]
  },
  {
   "cell_type": "markdown",
   "metadata": {
    "deletable": true,
    "editable": true
   },
   "source": [
    "Consider the image <tt>ckt_board_saltpep_prob_pt05.png</tt>. It has been corrupted with ‘salt-and-pepper’ noise (more formally known as impulse noise). Try to remove the noise from this image by applying a median filter of size 3x3. Compare the result to applying an averaging filter of size 3x3.  Increase the kernel size to 3x3, 5x5, 9x9, 15x15 and repeat. Analyze the results you obtained. Did the filter successfully remove the noise? Did you observe any other side effects?\n",
    "\n",
    "You can also corrupt any image you like with a salt-and-pepper noise generator. Write another function which adds salt-and-pepper noise to an input image. Use that function to corrupt additional images. Try to recover the original images using a median filter of appropriate size."
   ]
  },
  {
   "cell_type": "markdown",
   "metadata": {
    "deletable": true,
    "editable": true
   },
   "source": [
    "(Discuss your results after looking at the resulting images) Analyze the results you obtained. Did the filter successfully remove the noise? Did you observe any other side effects?"
   ]
  },
  {
   "cell_type": "markdown",
   "metadata": {
    "deletable": true,
    "editable": true
   },
   "source": [
    "### Problem 5 "
   ]
  },
  {
   "cell_type": "markdown",
   "metadata": {
    "deletable": true,
    "editable": true
   },
   "source": [
    "`1. Write a function that sharpens an image using the Laplacian kernel. Your function should first compute the Laplacian of the input image using the following kernel:\n",
    "<table>\n",
    "<tr>\n",
    "<td>0</td>\n",
    "<td>1</td>\n",
    "<td>0</td>\n",
    "</tr>\n",
    "<tr>\n",
    "<td>1</td>\n",
    "<td>-4</td>\n",
    "<td>1</td>\n",
    "</tr>\n",
    "<tr>\n",
    "<td>0</td>\n",
    "<td>1</td>\n",
    "<td>0</td>\n",
    "</tr>\n",
    "</table>\n",
    "\n",
    "2. Visualize the Laplacian of the input image. You may consider using a power intensity transformation to enhance the Laplacian image for visualization.\n",
    "\n",
    "3. Recall that sharpening is achieved by subtraction: $g(x,y) = f(x,y) - \\nabla^2 f(x,y) $. Use this method to produce an enhanced image.\n",
    "\n",
    "4. Recall that subtraction and filtering with a kernel are linear operations. Therefore, it is possible to combine both operations into a single kernel:\n",
    "<table>\n",
    "<tr>\n",
    "<td>0</td>\n",
    "<td>-1</td>\n",
    "<td>0</td>\n",
    "</tr>\n",
    "<tr>\n",
    "<td>-1</td>\n",
    "<td> 5</td>\n",
    "<td>-1</td>\n",
    "</tr>\n",
    "<tr>\n",
    "<td>0</td>\n",
    "<td>-1</td>\n",
    "<td>0</td>\n",
    "</tr>\n",
    "</table>\n",
    "Write another function that directly sharpens the image using this single kernel.\n",
    "\n",
    "5. Finally, recall that there is an alternative kernel that can be used to compute a Laplacian: \n",
    "<table>\n",
    "<tr>\n",
    "<td>1</td>\n",
    "<td>1</td>\n",
    "<td>1</td>\n",
    "</tr>\n",
    "<tr>\n",
    "<td>1</td>\n",
    "<td> -8</td>\n",
    "<td>1</td>\n",
    "</tr>\n",
    "<tr>\n",
    "<td>1</td>\n",
    "<td>1</td>\n",
    "<td>1</td>\n",
    "</tr>\n",
    "</table>\n",
    "Write another function that produces a sharpened image using a single enhancement kernel that is based on this alternative definition of the Laplacian.\n",
    "\n",
    "Apply all the functions you wrote to the image <tt>blurry_moon.png</tt>. Compare, analyze and comment all the results. You are also encouraged to try out your functions on more testing images."
   ]
  },
  {
   "cell_type": "markdown",
   "metadata": {
    "deletable": true,
    "editable": true
   },
   "source": [
    "Compare, analyze and comment all the results. You are also encouraged to try out your functions on more testing images.\n"
   ]
  },
  {
   "cell_type": "markdown",
   "metadata": {
    "deletable": true,
    "editable": true
   },
   "source": [
    "## Problem 6"
   ]
  },
  {
   "cell_type": "markdown",
   "metadata": {
    "deletable": true,
    "editable": true
   },
   "source": [
    "The gradient of an image is the two-dimensional vector\n",
    "\n",
    "$\\nabla \\mathbf{f} = \\left[ \\begin{array}{c}G_x\\\\G_y\\end{array} \\right] \n",
    "=\\left[ \\begin{array}{c}\\frac{\\partial f}{\\partial x}\\\\ \\frac{\\partial f}{\\partial y} \\end{array} \\right]\n",
    "$\n",
    "\n",
    "1. Write a function that calculates the image gradients in the $x$ and $y$ directions. Use the following Sobel operators to compute the derivatives:\n",
    "<table>\n",
    "<tr>\n",
    "<td>-1</td>\n",
    "<td>-2</td>\n",
    "<td>-1</td>\n",
    "</tr>\n",
    "<tr>\n",
    "<td>0</td>\n",
    "<td>0</td>\n",
    "<td>0</td>\n",
    "</tr>\n",
    "<tr>\n",
    "<td>1</td>\n",
    "<td>2</td>\n",
    "<td>1</td>\n",
    "</tr>\n",
    "</table>\n",
    "<table>\n",
    "<tr>\n",
    "<td>-1</td>\n",
    "<td>0</td>\n",
    "<td>1</td>\n",
    "</tr>\n",
    "<tr>\n",
    "<td>-2</td>\n",
    "<td>0</td>\n",
    "<td>2</td>\n",
    "</tr>\n",
    "<tr>\n",
    "<td>-1</td>\n",
    "<td>0</td>\n",
    "<td>1</td>\n",
    "</tr>\n",
    "</table>\n",
    "The function should output two variables, $G_x$ and $G_y$, which correspond to the derivatives in the $x$ and $y$ directions. Visualize the resulting gradients. Analyze the results obtained. How can you interpret the gradient operators?\n",
    "\n",
    "2. Write another function that computes the gradient magnitude of an image. Recall that the magnitude of the gradient vector can be computed by:<br>\n",
    "$\\nabla f = \\text{mag}(\\nabla \\mathbf{f}) = \\left[ G_x^2 + G_y^2 \\right]^\\frac{1}{2}$.\n",
    "\n",
    "3. Write another function that computes an approximation of the gradient magnitude using the following equation: <br>\n",
    "$\\nabla f \\approx |G_x| + |G_y|$. <br>\n",
    "Visualize and compare the resulting gradient magnitudes computed using both methods. How can you interpret the gradient magnitude?\n",
    "\n",
    "You may use the images <tt>contact_lens_original.png</tt> and <tt>face.png<tt> to test your algorithms.\n"
   ]
  },
  {
   "cell_type": "markdown",
   "metadata": {
    "deletable": true,
    "editable": true
   },
   "source": [
    "(Discuss your results after looking at the resulting images) Analyze the results you obtained.How can you interpret the gradient operators? How can you interpret the gradient magnitude?"
   ]
  }
 ],
 "metadata": {
  "kernelspec": {
   "display_name": "Python 2",
   "language": "python",
   "name": "python2"
  },
  "language_info": {
   "codemirror_mode": {
    "name": "ipython",
    "version": 2
   },
   "file_extension": ".py",
   "mimetype": "text/x-python",
   "name": "python",
   "nbconvert_exporter": "python",
   "pygments_lexer": "ipython2",
   "version": "2.7.9"
  }
 },
 "nbformat": 4,
 "nbformat_minor": 0
}
