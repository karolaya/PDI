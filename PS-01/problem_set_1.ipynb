{
 "cells": [
  {
   "cell_type": "markdown",
   "metadata": {
    "deletable": true,
    "editable": true
   },
   "source": [
    "# Digital Image Processing - Problem Set 1"
   ]
  },
  {
   "cell_type": "markdown",
   "metadata": {
    "deletable": true,
    "editable": true
   },
   "source": [
    "## Student Names: \n",
    "* Karolay Ardila Salazar\n",
    "* Julián Sibaja García\n",
    "* Andrés Simancas Mateus"
   ]
  },
  {
   "cell_type": "markdown",
   "metadata": {
    "deletable": true,
    "editable": true
   },
   "source": [
    "### Instructions"
   ]
  },
  {
   "cell_type": "markdown",
   "metadata": {
    "deletable": true,
    "editable": true
   },
   "source": [
    "This first Problem Set covers the topics of basic image manipulation, spatial resolution and intensity level resolution. <br>\n",
    "\n",
    "Your solutions to the following problems should include commented source code and a short description of each function. You should test your functions with several input images, besides the ones provided here. Include the input and output images that you used for experimentation. Analyze your results. If you discover something interesting, let us know!"
   ]
  },
  {
   "cell_type": "markdown",
   "metadata": {
    "deletable": true,
    "editable": true
   },
   "source": [
    "<b>1. </b>Load image from a file and display the image. Determine the size of the image. Finally, save a new copy of the image in a new file.<br /> <br />\n",
    "<img style=\"float: left; margin: 0px 0px 15px 15px;\" src=\"../data/cameraman.png\" height=\"200\" width=\"200\">"
   ]
  },
  {
   "cell_type": "markdown",
   "metadata": {
    "deletable": true,
    "editable": true
   },
   "source": [
    "<b>2. </b>Write a function <code>flip_image</code>, which flips an image either vertically or horizontally. The function should take two input parameters: the matrix storing the image data and a flag to indicate whether the image should be flipped vertically or horizontally. Use this function to flip an example image both vertically and horizontally. <b>Tip:</b> You can use numpy array indexing or OpenCV's <a href=\"http://docs.opencv.org/modules/core/doc/operations_on_arrays.html#flip\">flip</a> function to solve this problem. <br /> <br />\n",
    "\n",
    "<img style=\"float: left; margin: 0px 0px 15px 15px;\" src=\"../data/Woman.bmp\" height=\"200\" width=\"200\">"
   ]
  },
  {
   "cell_type": "markdown",
   "metadata": {
    "deletable": true,
    "editable": true
   },
   "source": [
    "<b>3. </b> Write a function to generate the negative of an image. This means that  a new image is created in which the pixel values are all equal to 1.0 minus the pixel value in the original image. <br /> <br />\n",
    "\n",
    "<img style=\"float: left; margin: 0px 0px 15px 15px;\" src=\"../data/moon.jpg\" height=\"200\" width=200>"
   ]
  },
  {
   "cell_type": "markdown",
   "metadata": {
    "deletable": true,
    "editable": true
   },
   "source": [
    "<b>4. </b>Write a function <code>average_intensity</code>, which calculates the average intensity level of an image. Use this function on example images and discuss your results. You can use images from section 2 and 3 <br /> <br />"
   ]
  },
  {
   "cell_type": "code",
   "execution_count": 18,
   "metadata": {
    "collapsed": false
   },
   "outputs": [
    {
     "ename": "SyntaxError",
     "evalue": "invalid syntax (<ipython-input-18-53c6f75269bc>, line 12)",
     "output_type": "error",
     "traceback": [
      "\u001b[0;36m  File \u001b[0;32m\"<ipython-input-18-53c6f75269bc>\"\u001b[0;36m, line \u001b[0;32m12\u001b[0m\n\u001b[0;31m    return = [cv2.imread(pth+i, cv2.IMREAD_GRAYSCALE).mean() for i in imgs]\u001b[0m\n\u001b[0m           ^\u001b[0m\n\u001b[0;31mSyntaxError\u001b[0m\u001b[0;31m:\u001b[0m invalid syntax\n"
     ]
    }
   ],
   "source": [
    "import cv2\n",
    "\n",
    "# path prefix\n",
    "pth = '../data/'\n",
    "\n",
    "# list *files* holds the names of the test images\n",
    "files = ['cameraman.png', 'moon.jpg', 'rose.bmp', 'skull.bmp', 'Woman.bmp']\n",
    "\n",
    "\n",
    "def average_intensity(imgs):\n",
    "    # numpy array of images\n",
    "    return = [cv2.imread(pth+i, cv2.IMREAD_GRAYSCALE).mean() for i in imgs]\n",
    "\n",
    "# print result\n",
    "for avg, name in zip(average_intensity(files), files):\n",
    "    print 'Average intensity of \"', name, '\":', avg"
   ]
  },
  {
   "cell_type": "markdown",
   "metadata": {
    "deletable": true,
    "editable": true
   },
   "source": [
    "<b>5. </b>Write a function <code>threshold_image</code> which thresholds an image based on a threshold level given as a parameter to the function. The function should take two parameters: the image to be thresholded and the threshold level. The result of the function should be a new thresholded image. <br /> <br />"
   ]
  },
  {
   "cell_type": "markdown",
   "metadata": {
    "deletable": true,
    "editable": true
   },
   "source": [
    "<b>6. </b>Write a function avg_intensity_threshold_image which takes an image as its only parameter and thresholds this image based on the images average intensity value. <b>Hint:</b> Simply write a new function that uses the two functions just written. <br /> <br />"
   ]
  },
  {
   "cell_type": "markdown",
   "metadata": {
    "deletable": true,
    "editable": true
   },
   "source": [
    "<b>7. </b>Write a function which subsamples a grayscale image of size 512x512 by factors of 2, i.e., 256, 128, 64 and display your results. There are multiple ways to do this as discussed in the textbook. You may simply sub-sample, average, etc.  Describe which you used and why.\n",
    "\n",
    "<img style=\"float: left; margin: 0px 0px 15px 15px;\" src=\"../data/rose.bmp\" height=\"256\" width=\"256\">\n",
    "<img style=\"float: left; margin: 0px 0px 15px 15px;\" src=\"../data/rose.bmp\" height=\"128\" width=\"128\">\n",
    "<img style=\"float: left; margin: 0px 0px 15px 15px;\" src=\"../data/rose.bmp\" height=\"64\" width=\"64\">\n",
    "<img style=\"float: left; margin: 0px 0px 15px 15px;\" src=\"../data/rose.bmp\" height=\"32\" width=\"32\">"
   ]
  },
  {
   "cell_type": "markdown",
   "metadata": {
    "deletable": true,
    "editable": true
   },
   "source": [
    "<b>8. </b>Keeping your original image resolution reduce the number of gray levels in your image from 256 to 2 in powers of 2. Display your results.\n",
    "\n",
    "<img style=\"float: left; margin: 0px 0px 15px 15px;\" src=\"../data/skull.bmp\" height=\"200\" width=200>"
   ]
  },
  {
   "cell_type": "code",
   "execution_count": null,
   "metadata": {
    "collapsed": true
   },
   "outputs": [],
   "source": []
  }
 ],
 "metadata": {
  "kernelspec": {
   "display_name": "Python 2",
   "language": "python",
   "name": "python2"
  },
  "language_info": {
   "codemirror_mode": {
    "name": "ipython",
    "version": 2
   },
   "file_extension": ".py",
   "mimetype": "text/x-python",
   "name": "python",
   "nbconvert_exporter": "python",
   "pygments_lexer": "ipython2",
   "version": "2.7.13"
  }
 },
 "nbformat": 4,
 "nbformat_minor": 2
}
