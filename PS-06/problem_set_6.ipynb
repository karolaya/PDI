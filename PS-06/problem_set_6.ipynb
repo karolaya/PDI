{
 "cells": [
  {
   "cell_type": "markdown",
   "metadata": {
    "deletable": true,
    "editable": true
   },
   "source": [
    "# <center>Digital Image Processing - Problem Set 6</center>"
   ]
  },
  {
   "cell_type": "markdown",
   "metadata": {
    "deletable": true,
    "editable": true
   },
   "source": [
    "### Student Names:\n",
    "\n",
    "* Karolay Ardila Salazar\n",
    "* Julián Elías Sibaja García\n",
    "* Andrés Simancas Mateus"
   ]
  },
  {
   "cell_type": "markdown",
   "metadata": {
    "deletable": true,
    "editable": true
   },
   "source": [
    "### Problem 1"
   ]
  },
  {
   "cell_type": "markdown",
   "metadata": {
    "deletable": true,
    "editable": true
   },
   "source": [
    "Write a function that performs object recognition using $k$-Nearest Neighbors ($k$-NN). You can (and are encouraged to) use the functions\n",
    "you have written for previous exercises. Your function should run the following steps:\n",
    "\n",
    "1. Binarize the images in the training set. Use an appropriate threshold when binarizing each image. You can use an adaptive thresholding technique. Perform binarization such that pixels on the object of interest are equal to 1 and background pixels are equal to 0.\n",
    "2. Describe each object in the training set using Hu moments. This results in one feature vector per object.\n",
    "3. Repeat the two previous steps for the all images in the training set.\n",
    "4. The $k$-NN classifier predicts a category for each testing example according to the following steps:\n",
    "    1. Pick an image from the testing set.\n",
    "    2. Compute the distance from the feature vector associated to the testing example to all the descriptors from the training set.\n",
    "    3. Select the closest $k$ training examples (that is, the $k$ training examples with shortest distance to our testing image).\n",
    "    4. Find the object category associated to each of the $k$ training examples. This information is given to you in the training set.\n",
    "    5. Assign a label to the testing image. The assigned label is equal to the most common label among the $k$ closes training examples.\n",
    "    \n",
    "5. Repeat this process for all testing examples. Compute the accuracy of the classifier in terms of the number of correctly classified testing examples over the total number of examples in the testing set.\n",
    "\n",
    "You should test your functions with the three object classes <tt> key, chip, pen</tt>. Compare the difference in performance between a 1-NN classifier, a 3-NN classifier and a $k$-NN classifier. Summarize the performance of each classifier using confusion matrices."
   ]
  },
  {
   "cell_type": "code",
   "execution_count": 116,
   "metadata": {
    "collapsed": false,
    "deletable": true,
    "editable": true
   },
   "outputs": [
    {
     "name": "stdout",
     "output_type": "stream",
     "text": [
      "CONFUSION MATRICES AT THE END\n",
      "\n",
      "KNN with k = 1\n",
      "-----------------------------------\n",
      "Class of file key_00.jpg is CHIP\n",
      "-----------------------------------\n",
      "Class of file chip_02.jpg is CHIP\n",
      "-----------------------------------\n",
      "Class of file chip_01.jpg is KEY\n",
      "-----------------------------------\n",
      "Class of file pen_00.jpg is PEN\n",
      "-----------------------------------\n",
      "Class of file pen_01.jpg is PEN\n",
      "-----------------------------------\n",
      "Class of file chip_00.jpg is CHIP\n",
      "-----------------------------------\n",
      "Class of file key_02.jpg is PEN\n",
      "-----------------------------------\n",
      "Class of file key_03.jpg is KEY\n",
      "-----------------------------------\n",
      "Class of file key_01.jpg is KEY\n",
      "-----------------------------------\n",
      "Class of file chip_03.jpg is KEY\n",
      "\n",
      "KNN with k = 3\n",
      "-----------------------------------\n",
      "Class of file key_00.jpg is CHIP\n",
      "-----------------------------------\n",
      "Class of file chip_02.jpg is CHIP\n",
      "-----------------------------------\n",
      "Class of file chip_01.jpg is KEY\n",
      "-----------------------------------\n",
      "Class of file pen_00.jpg is PEN\n",
      "-----------------------------------\n",
      "Class of file pen_01.jpg is PEN\n",
      "-----------------------------------\n",
      "Class of file chip_00.jpg is CHIP\n",
      "-----------------------------------\n",
      "Class of file key_02.jpg is KEY\n",
      "-----------------------------------\n",
      "Class of file key_03.jpg is KEY\n",
      "-----------------------------------\n",
      "Class of file key_01.jpg is KEY\n",
      "-----------------------------------\n",
      "Class of file chip_03.jpg is KEY\n",
      "\n",
      "KNN with k = 7\n",
      "-----------------------------------\n",
      "Class of file key_00.jpg is CHIP\n",
      "-----------------------------------\n",
      "Class of file chip_02.jpg is CHIP\n",
      "-----------------------------------\n",
      "Class of file chip_01.jpg is CHIP\n",
      "-----------------------------------\n",
      "Class of file pen_00.jpg is PEN\n",
      "-----------------------------------\n",
      "Class of file pen_01.jpg is PEN\n",
      "-----------------------------------\n",
      "Class of file chip_00.jpg is CHIP\n",
      "-----------------------------------\n",
      "Class of file key_02.jpg is KEY\n",
      "-----------------------------------\n",
      "Class of file key_03.jpg is KEY\n",
      "-----------------------------------\n",
      "Class of file key_01.jpg is KEY\n",
      "-----------------------------------\n",
      "Class of file chip_03.jpg is CHIP\n",
      "\n"
     ]
    },
    {
     "data": {
      "image/png": "[encoded data removed]",
      "text/plain": [
       "<matplotlib.figure.Figure at 0x7eff180d1bd0>"
      ]
     },
     "metadata": {},
     "output_type": "display_data"
    },
    {
     "data": {
      "image/png": "[encoded data removed]",
      "text/plain": [
       "<matplotlib.figure.Figure at 0x7eff1ab383d0>"
      ]
     },
     "metadata": {},
     "output_type": "display_data"
    },
    {
     "data": {
      "image/png": "[encoded data removed]",
      "text/plain": [
       "<matplotlib.figure.Figure at 0x7eff0500a290>"
      ]
     },
     "metadata": {},
     "output_type": "display_data"
    }
   ],
   "source": [
    "import numpy as np\n",
    "import cv2\n",
    "import itertools\n",
    "import matplotlib.pyplot as mplt\n",
    "\n",
    "from os import listdir\n",
    "from os.path import isfile, join\n",
    "from sklearn.metrics import confusion_matrix\n",
    "%matplotlib inline\n",
    "\n",
    "TRAIN_PATH = 'training_set/'\n",
    "TEST_PATH = 'testing_set/'\n",
    "\n",
    "LABELS = {'key': 0, 'chip': 1, 'pen': 2}\n",
    "INV_LABELS = {0: 'key', 1: 'chip', 2: 'pen'}\n",
    "\n",
    "N = 7\n",
    "TEST_K = [1, 3, N]\n",
    "\n",
    "def rg(img_path):\n",
    "    return cv2.imread(img_path, cv2.IMREAD_GRAYSCALE)\n",
    "\n",
    "def normalThresholding(img):\n",
    "    _, th = cv2.threshold(img, 250, 255, cv2.THRESH_BINARY_INV)\n",
    "    return th\n",
    "\n",
    "def huMoments(image):\n",
    "    Hu = cv2.HuMoments(cv2.moments(image)).flatten()\n",
    "    return Hu\n",
    "        \n",
    "def classify(test, knn, k):\n",
    "    test_vec = np.array(test, dtype=np.float32).reshape([1, len(test)])\n",
    "    _, results, _, _ = knn.find_nearest(test_vec, k)\n",
    "    \n",
    "    return int(results[0][0])\n",
    "\n",
    "def printToConsole(header, files, classes):\n",
    "    files = [f.split('/')[1] for f in files]\n",
    "    \n",
    "    print(header)\n",
    "    for i in range(len(files)):\n",
    "        print('-'*(14 + 12 + 4 + 5))\n",
    "        print('Class of file ' + files[i] + ' is ' + classes[i].upper())\n",
    "    print('')\n",
    "    \n",
    "def plot_confusion_matrix(cm, classes,\n",
    "                          normalize=False,\n",
    "                          title='Confusion matrix',\n",
    "                          cmap=mplt.cm.Blues):\n",
    "    \"\"\"\n",
    "    This function prints and plots the confusion matrix.\n",
    "    Normalization can be applied by setting `normalize=True`.\n",
    "    \"\"\"\n",
    "    mplt.imshow(cm, interpolation='nearest', cmap=cmap)\n",
    "    mplt.title(title)\n",
    "    mplt.colorbar()\n",
    "    tick_marks = np.arange(len(classes))\n",
    "    mplt.xticks(tick_marks, classes, rotation=45)\n",
    "    mplt.yticks(tick_marks, classes)\n",
    "\n",
    "    if normalize:\n",
    "        cm = cm.astype('float') / cm.sum(axis=1)[:, np.newaxis]\n",
    "\n",
    "    thresh = cm.max() / 4.\n",
    "    for i, j in itertools.product(range(cm.shape[0]), range(cm.shape[1])):\n",
    "        mplt.text(j, i, cm[i, j],\n",
    "                 horizontalalignment=\"center\",\n",
    "                 color=\"white\" if cm[i, j] > thresh else \"black\")\n",
    "\n",
    "    mplt.tight_layout()\n",
    "    mplt.ylabel('True label')\n",
    "    mplt.xlabel('Predicted label')\n",
    "\n",
    "        \n",
    "\n",
    "# ************************\n",
    "#        TRAINING\n",
    "# ************************\n",
    "        \n",
    "# Load the training images\n",
    "train_files = [join(TRAIN_PATH, f) for f in listdir(TRAIN_PATH) if isfile(join(TRAIN_PATH, f))]\n",
    "train_imgs = [rg(f) for f in train_files]\n",
    "\n",
    "# Assign labels\n",
    "train_labels = [(i.split('/')[1]).split('_')[0] for i in train_files]\n",
    "labels = [LABELS[l] for l in train_labels]\n",
    "\n",
    "# Smooth the images\n",
    "train_imgs = [cv2.GaussianBlur(i, (9,9), 0) for i in train_imgs]\n",
    "\n",
    "# Threshold the training images\n",
    "th_train_imgs = [normalThresholding(i) for i in train_imgs]\n",
    "\n",
    "# Extract Hu moments\n",
    "hu_train_imgs = [huMoments(i) for i in th_train_imgs]\n",
    "\n",
    "# Train the classifier\n",
    "knn = cv2.KNearest()\n",
    "knn.train(np.array(hu_train_imgs, dtype=np.float32), np.array(labels))\n",
    "\n",
    "# ************************\n",
    "#         TESTING\n",
    "# ************************\n",
    "\n",
    "# Load testing images\n",
    "test_files = [join(TEST_PATH, f) for f in listdir(TEST_PATH) if isfile(join(TEST_PATH, f))]\n",
    "test_imgs = [rg(f) for f in test_files]\n",
    "\n",
    "# Smooth the images\n",
    "test_imgs = [cv2.GaussianBlur(i, (9,9), 0) for i in test_imgs]\n",
    "\n",
    "# Threshold the testing images\n",
    "th_test_imgs = [normalThresholding(i) for i in test_imgs]\n",
    "\n",
    "# Extract Hu moments\n",
    "hu_test_imgs = [huMoments(i) for i in th_test_imgs]\n",
    "\n",
    "# Classify testing images\n",
    "all_tests = list()\n",
    "for i in TEST_K:\n",
    "    classes = [classify(hu, knn, i) for hu in hu_test_imgs]\n",
    "    classes_str = [INV_LABELS[j] for j in classes]\n",
    "    all_tests.append(classes_str)\n",
    "    #printToConsole('KNN with k = ' + str(i), test_files, classes)\n",
    "    \n",
    "# *************************************\n",
    "#    CONFUSION MATRICES AND PRINTING\n",
    "# *************************************\n",
    "true_label_of_tests = [(i.split('/')[1]).split('_')[0] for i in test_files]\n",
    "\n",
    "print('CONFUSION MATRICES AT THE END')\n",
    "print('')\n",
    "for i in range(len(TEST_K)):\n",
    "    mplt.figure()\n",
    "    cnf = confusion_matrix(true_label_of_tests, all_tests[i])\n",
    "    plot_confusion_matrix(cnf, classes=['chip', 'key', 'pen'], normalize=True,\n",
    "                      title='Normalized confusion matrix k=' + str(TEST_K[i]))\n",
    "    printToConsole('KNN with k = ' + str(TEST_K[i]), test_files, all_tests[i])\n",
    "mplt.show()\n",
    "\n"
   ]
  },
  {
   "cell_type": "code",
   "execution_count": null,
   "metadata": {
    "collapsed": true
   },
   "outputs": [],
   "source": []
  }
 ],
 "metadata": {
  "kernelspec": {
   "display_name": "Python 2",
   "language": "python",
   "name": "python2"
  },
  "language_info": {
   "codemirror_mode": {
    "name": "ipython",
    "version": 2
   },
   "file_extension": ".py",
   "mimetype": "text/x-python",
   "name": "python",
   "nbconvert_exporter": "python",
   "pygments_lexer": "ipython2",
   "version": "2.7.13"
  }
 },
 "nbformat": 4,
 "nbformat_minor": 0
}
