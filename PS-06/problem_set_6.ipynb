{
 "cells": [
  {
   "cell_type": "markdown",
   "metadata": {},
   "source": [
    "# <center>Digital Image Processing - Problem Set 6</center>"
   ]
  },
  {
   "cell_type": "markdown",
   "metadata": {},
   "source": [
    "### Student Names:"
   ]
  },
  {
   "cell_type": "markdown",
   "metadata": {},
   "source": [
    "### Problem 1"
   ]
  },
  {
   "cell_type": "markdown",
   "metadata": {},
   "source": [
    "Write a function that performs object recognition using $k$-Nearest Neighbors ($k$-NN). You can (and are encouraged to) use the functions\n",
    "you have written for previous exercises. Your function should run the following steps:\n",
    "\n",
    "1. Binarize the images in the training set. Use an appropriate threshold when binarizing each image. You can use an adaptive thresholding technique. Perform binarization such that pixels on the object of interest are equal to 1 and background pixels are equal to 0.\n",
    "2. Describe each object in the training set using Hu moments. This results in one feature vector per object.\n",
    "3. Repeat the two previous steps for the all images in the training set.\n",
    "4. The $k$-NN classifier predicts a category for each testing example according to the following steps:\n",
    "    1. Pick an image from the testing set.\n",
    "    2. Compute the distance from the feature vector associated to the testing example to all the descriptors from the training set.\n",
    "    3. Select the closest $k$ training examples (that is, the $k$ training examples with shortest distance to our testing image).\n",
    "    4. Find the object category associated to each of the $k$ training examples. This information is given to you in the training set.\n",
    "    5. Assign a label to the testing image. The assigned label is equal to the most common label among the $k$ closes training examples.\n",
    "    \n",
    "5. Repeat this process for all testing examples. Compute the accuracy of the classifier in terms of the number of correctly classified testing examples over the total number of examples in the testing set.\n",
    "\n",
    "You should test your functions with the three object classes <tt> key, chip, pen</tt>. Compare the difference in performance between a 1-NN classifier, a 3-NN classifier and a $k$-NN classifier. Summarize the performance of each classifier using confusion matrices."
   ]
  }
 ],
 "metadata": {
  "kernelspec": {
   "display_name": "Python 2",
   "language": "python",
   "name": "python2"
  },
  "language_info": {
   "codemirror_mode": {
    "name": "ipython",
    "version": 2
   },
   "file_extension": ".py",
   "mimetype": "text/x-python",
   "name": "python",
   "nbconvert_exporter": "python",
   "pygments_lexer": "ipython2",
   "version": "2.7.11"
  }
 },
 "nbformat": 4,
 "nbformat_minor": 0
}
