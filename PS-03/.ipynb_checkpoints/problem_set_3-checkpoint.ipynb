{
 "cells": [
  {
   "cell_type": "markdown",
   "metadata": {
    "deletable": true,
    "editable": true
   },
   "source": [
    "# <center>Digital Image Processing - Problem Set 3</center>"
   ]
  },
  {
   "cell_type": "markdown",
   "metadata": {
    "deletable": true,
    "editable": true
   },
   "source": [
    "### Student Names:\n",
    "* Karolay Ardila Salazar\n",
    "* Julián Alphonse Sibaja García :v\n",
    "* Andrés Carlos Simancas Mateus v:"
   ]
  },
  {
   "cell_type": "markdown",
   "metadata": {
    "deletable": true,
    "editable": true
   },
   "source": [
    "### Instructions"
   ]
  },
  {
   "cell_type": "markdown",
   "metadata": {
    "deletable": true,
    "editable": true
   },
   "source": [
    "This Problem Set covers the topics of frequency domain filtering and color image processing.<br>\n",
    "\n",
    "Your solutions to the following problems should include commented source code and a short description of each function. You should test your functions with several input images, besides the ones provided here. Include the input and output images that you used for experimentation. Analyze your results. If you discover something interesting, let us know!"
   ]
  },
  {
   "cell_type": "markdown",
   "metadata": {
    "deletable": true,
    "editable": true
   },
   "source": [
    "### Definitions"
   ]
  },
  {
   "cell_type": "code",
   "execution_count": 1,
   "metadata": {
    "collapsed": false,
    "deletable": true,
    "editable": true
   },
   "outputs": [
    {
     "name": "stdout",
     "output_type": "stream",
     "text": [
      "['Fall-Nature-Background-Pictures.jpg', 'Fig6.21(b).jpg', 'Woman.bmp', 'blown_ic.png', 'blurry_moon.png', 'cameraman.png', 'cameraman_new.png', 'check.png', 'chest.jpg', 'ckt_board_saltpep_prob_pt05.png', 'contact_lens_original.png', 'darkPollen.jpg', 'dark_fountain.jpg', 'face.png', 'fruits.jpg', 'hiro.jpg', 'hut.jpg', 'lena.jpg', 'lightPollen.jpg', 'lowContrastPollen.jpg', 'moon.jpg', 'new_cameraman.png', 'new_chest.bmp', 'out.png', 'pollen.jpg', 'rectangle.png', 'rose.bmp', 'runway.jpg', 'skull.bmp', 'spine.jpg', 'squares.jpg', 'test_pattern_blurring_orig.png', 'translated_rectangle.png', 'weld_x-ray.jpg']\n"
     ]
    }
   ],
   "source": [
    "'''This is a definition script, so we do not have to rewrite code'''\n",
    "\n",
    "import numpy as np\n",
    "import os\n",
    "import cv2\n",
    "import matplotlib.pyplot as mplt\n",
    "import random\n",
    "\n",
    "\n",
    "# set matplotlib to print inline (Jupyter)\n",
    "%matplotlib inline\n",
    "\n",
    "# path prefix\n",
    "pth = '../data/'\n",
    "\n",
    "# files to be used as samples\n",
    "# list *files* holds the names of the test images\n",
    "files = sorted(os.listdir(pth))\n",
    "print files\n",
    "\n",
    "# Usefull function\n",
    "def rg(img_path):\n",
    "    return cv2.imread(pth+img_path, cv2.IMREAD_GRAYSCALE)"
   ]
  },
  {
   "cell_type": "markdown",
   "metadata": {
    "deletable": true,
    "editable": true
   },
   "source": [
    "### Problem 1"
   ]
  },
  {
   "cell_type": "markdown",
   "metadata": {
    "deletable": true,
    "editable": true
   },
   "source": [
    "Visualize the Fourier spectrum of an image. Write a function that visualizes the spectrum of an input gray-scale image. The function should perform the following steps:\n",
    "\n",
    "1. Compute the FFT of the input image using the FFT function <tt>numpy.fft.fft2</tt>.\n",
    "2. Shift the transform to center the origin in the middle of the image using <tt>numpy.fft.fftshift</tt>.\n",
    "3. The Fourier transform contains complex numbers, so we usually analyze its phase and spectrum components. Write commands that compute the Fourier spectrum from the shifted Fourier transform.\n",
    "4. The resulting spectrum is difficult to visualize if plotted directly. Instead, we usually apply a logarithmic intensity transform to the spectrum before visualizing. Use the <tt>numpy.log</tt> function to accomplish this.\n",
    "5. Plot the modified spectrum.\n",
    "\n",
    "Test your function by applying it to the images <tt>face.png</tt>, <tt>blown_ic.png</tt>, <tt>test_pattern_blurring_orig.png</tt>, <tt>translated_rectangle.png</tt> and <tt>rectangle.png</tt>.\n",
    "\n",
    "Please comment your results."
   ]
  },
  {
   "cell_type": "markdown",
   "metadata": {
    "deletable": true,
    "editable": true
   },
   "source": [
    "### Problem 2"
   ]
  },
  {
   "cell_type": "markdown",
   "metadata": {
    "deletable": true,
    "editable": true
   },
   "source": [
    "Frequency domain filtering. Write a PYTHON function that performs high-frequency emphasis (hfe) filtering. Recall that an hfe filter is defined as:\n",
    "\\begin{equation}\n",
    "H_{hfe}(u,v) = a + b \\cdot H_{hp}(u,v)\n",
    "\\end{equation}\n",
    "where $a$ is the offset, $b$ is the high-frequency amplification and $H_{hp}$ is the transfer function of a high-pass filter. Your function should be based on a second-order high-pass Butterworth filter with a cut-off frequency $D_0$, which is given by:\n",
    "\\begin{equation}\n",
    "H_{hp}(u,v) = \\frac{1}{1 + \\left[\\frac{D_0}{D(u,v)}\\right]^{2n}}.\n",
    "\\end{equation}\n",
    "<b>Note. </b> $D(u,v)$ measures the Euclidean distance from the point $(u,v)$ to the center of the frequency plane.\n",
    "\n",
    "Use your function and filters on the image <tt>chest.jpg</tt> to reproduce the image enhancement illustrated below.\n",
    "\n",
    "<img src=\"files/chest.jpg\"/ width=200> <img src=\"files/out.png\"/width=200>\n",
    "\n",
    "The outline of the process is the following:\n",
    "\n",
    "1. Create a high-pass Butterworth filter with a frequency domain dimension of 2 times the size of the input image. Plot the filter image.\n",
    "2. Compute the FFT of the input image using the function <tt>numpy.fft.fft2</tt>. The FFT should have frequency domain dimensions equal to the dimensions of the filter, which should be set using the input parameters of the <tt>fft2</tt> function. Plot the FFT image.\n",
    "3. Filter the image using the high-pass Butterworth filter. To filter an image in the frequency domain, you should multiply the fourier transform of the image and the frequency response of the filter. To go back to the spatial domain, you need to apply the inverse FFT and take the real component of the resut. Plot the resulting image.\n",
    "4. Create a high-frequency emphasis filter based on the Butterworth filter of step 1. Plot the filter image.\n",
    "5. Filter the image using a high-frequency emphasis filter. Plot the resulting image.\n",
    "6. After filtering, you may need to stretch the intensity values of each resulting image to the range [0, 255]. You can achieve this by substracting the minimum intensity value, dividing by the maximum and multiplying the result by 255.\n",
    "7. Apply histogram equalization to the image obtained in the previous step. You should obtain a similar result to that shown above.\n",
    "\n",
    "Use the following parameters for the filters: $a = 0.5$, $b = 2$, $n=2$ and $D_0$ should be set to $5\\%$ of the vertical dimension of the filter.\n",
    "\n",
    "Please comment your results."
   ]
  },
  {
   "cell_type": "markdown",
   "metadata": {
    "deletable": true,
    "editable": true
   },
   "source": [
    "### Problem 3"
   ]
  },
  {
   "cell_type": "markdown",
   "metadata": {
    "deletable": true,
    "editable": true
   },
   "source": [
    "Color spaces. Write a function that converts an image from the RGB color\n",
    "space to HSI color space. Write another function that converts an image from the HSI\n",
    "color space to RGB color space. You should use the homework equations to implement these conversions.\n",
    "\n",
    "When plotting images in the HSI space, you should plot each channel separately, using one image for the H channel, another for the S channel and another for the I channel.\n",
    "\n",
    "Test your function converting images from RGB to HSI and back to RGB."
   ]
  },
  {
   "cell_type": "markdown",
   "metadata": {
    "deletable": true,
    "editable": true
   },
   "source": [
    "### Problem 4"
   ]
  },
  {
   "cell_type": "markdown",
   "metadata": {
    "deletable": true,
    "editable": true
   },
   "source": [
    "Manipulating color images. Write a function that converts a color image from the RGB to\n",
    "the HSI color space, modifies the ‘I’ channel by applying histogram equalization, and revert\n",
    "back the image to the RGB color space. Apply this function to enhance the image <tt>dark_fountain.jpg</tt>."
   ]
  },
  {
   "cell_type": "markdown",
   "metadata": {
    "deletable": true,
    "editable": true
   },
   "source": [
    "### Problem 5 "
   ]
  },
  {
   "cell_type": "markdown",
   "metadata": {
    "deletable": true,
    "editable": true
   },
   "source": [
    "Manipulating color images. Consider the RGB color image <tt>squares.jpg</tt>, where the\n",
    "squares are pure red, green and blue.\n",
    "\n",
    "<img src=\"files/squares.jpg\" width=200 />\n",
    "\n",
    "1. Convert this image to the HSI color space. Blur the H component of the image using a 25x25 averaging mask, and convert it back to RGB. How do you explain the obtained result?\n",
    "2. Repeat, blurring only the saturation component this time. How do you explain the result?\n"
   ]
  },
  {
   "cell_type": "markdown",
   "metadata": {
    "deletable": true,
    "editable": true
   },
   "source": [
    "## Problem 6"
   ]
  },
  {
   "cell_type": "markdown",
   "metadata": {
    "deletable": true,
    "editable": true
   },
   "source": [
    "False color. Write a Python function that produces a false color visualization of\n",
    "the input gray-scale image as follows:\n",
    "\n",
    "1. If the intensity of an input pixel is lower than a threshold $T$, then the color of the corresponding pixel should be blue.\n",
    "2. If the intensity of an input pixel is larger or equal than a threshold $T$, then the color of the corresponding pixel should be yellow.\n",
    "\n",
    "Use your function to reproduce the following result on the image <tt>weld_x-ray.jpg</tt>:\n",
    "\n",
    "<img src=\"files/weld_x-ray.jpg\" width=200 /> <img src=\"files/Fig6.21(b).jpg\" width=200 /> "
   ]
  },
  {
   "cell_type": "markdown",
   "metadata": {
    "deletable": true,
    "editable": true
   },
   "source": [
    "## Problem 7"
   ]
  },
  {
   "cell_type": "markdown",
   "metadata": {
    "deletable": true,
    "editable": true
   },
   "source": [
    "Green screen effects. Write a function that replaces the green background of the image <tt>hiro.jpg</tt> with a background image of your choice.\n",
    "\n",
    "<img src=\"files/hiro.jpg\" width=300>"
   ]
  },
  {
   "cell_type": "code",
   "execution_count": 71,
   "metadata": {
    "collapsed": false,
    "deletable": true,
    "editable": true
   },
   "outputs": [
    {
     "data": {
      "text/plain": [
       "<matplotlib.text.Text at 0x7f4cf9809b10>"
      ]
     },
     "execution_count": 71,
     "metadata": {},
     "output_type": "execute_result"
    },
    {
     "data": {
      "image/png": "[encoded data removed]",
      "text/plain": [
       "<matplotlib.figure.Figure at 0x7f4cfb2e34d0>"
      ]
     },
     "metadata": {},
     "output_type": "display_data"
    }
   ],
   "source": [
    "img = cv2.imread('../data/'+'hiro.jpg')\n",
    "background = cv2.imread('../data/'+'Fall-Nature-Background-Pictures.jpg')\n",
    "image = rg(files[0])\n",
    "hg, wd = image.shape \n",
    "\n",
    "r = 412.5 / wd\n",
    "dim = (600, int(hg * r))\n",
    " \n",
    "bk_resized = cv2.resize(image, dim, interpolation = cv2.INTER_AREA)\n",
    "\n",
    "mask = np.ones(img.shape[:2], np.uint8)*255\n",
    "bgdModel = np.zeros((1, 65), np.float64)\n",
    "fgdModel = np.zeros((1, 65), np.float64)\n",
    "rect = (170, 8, 290, 290)\n",
    "cv2.grabCut(img,mask,rect,bgdModel,fgdModel,5,cv2.GC_INIT_WITH_RECT)\n",
    "mask2 = np.where((mask == 2)|(mask == 0), 0, 1).astype('uint8')\n",
    "img = img * mask2[:,:, np.newaxis]\n",
    "#img = np.multiply(img, bk_resized)\n",
    "\n",
    "mplt.figure()\n",
    "mplt.subplot(221)\n",
    "mplt.imshow(img1)\n",
    "mplt.title(files[15])\n",
    "\n",
    "mplt.subplot(222)\n",
    "mplt.imshow(bk_resized)\n",
    "mplt.title(files[0])"
   ]
  },
  {
   "cell_type": "code",
   "execution_count": null,
   "metadata": {
    "collapsed": true
   },
   "outputs": [],
   "source": []
  }
 ],
 "metadata": {
  "kernelspec": {
   "display_name": "Python 2",
   "language": "python",
   "name": "python2"
  },
  "language_info": {
   "codemirror_mode": {
    "name": "ipython",
    "version": 2
   },
   "file_extension": ".py",
   "mimetype": "text/x-python",
   "name": "python",
   "nbconvert_exporter": "python",
   "pygments_lexer": "ipython2",
   "version": "2.7.12"
  }
 },
 "nbformat": 4,
 "nbformat_minor": 0
}
